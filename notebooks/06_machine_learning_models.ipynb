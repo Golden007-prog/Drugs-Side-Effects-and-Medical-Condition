{
  "cells": [
    {
      "cell_type": "markdown",
      "metadata": {},
      "source": [
        "![ML models](../img/06.png)"
      ]
    },
    {
      "cell_type": "markdown",
      "metadata": {
        "vscode": {
          "languageId": "raw"
        }
      },
      "source": [
        "# Machine Learning Models\n",
        "\n",
        "## Objective\n",
        "Build and evaluate multiple machine learning models for drug-related predictions including rating prediction, effectiveness classification, and recommendation systems.\n",
        "\n",
        "## Contents\n",
        "1. **Data Preparation for ML**\n",
        "2. **Feature Engineering & Selection**\n",
        "3. **Drug Rating Prediction Models**\n",
        "4. **Drug Effectiveness Classification**\n",
        "5. **Model Evaluation & Comparison**\n",
        "6. **Business Impact Analysis**\n",
        "\n",
        "## Machine Learning Tasks\n",
        "- **Regression**: Predict drug ratings based on features\n",
        "- **Classification**: Classify drugs as effective/ineffective\n",
        "- **Recommendation**: Suggest drugs for specific conditions\n",
        "\n",
        "## Models Implemented\n",
        "- **Linear Models**: Linear/Ridge/Lasso Regression, Logistic Regression\n",
        "- **Tree-Based**: Random Forest, Gradient Boosting\n",
        "- **Neural Networks**: Multi-layer Perceptron\n",
        "- **Ensemble Methods**: Voting Classifiers\n",
        "\n",
        "## Business Applications\n",
        "- **Personalized Medicine**: Tailored drug recommendations\n",
        "- **Clinical Decision Support**: Evidence-based treatment suggestions\n",
        "- **Healthcare Analytics**: Population-level treatment optimization\n",
        "\n",
        "---\n"
      ]
    },
    {
      "cell_type": "code",
      "execution_count": 1,
      "metadata": {},
      "outputs": [
        {
          "name": "stdout",
          "output_type": "stream",
          "text": [
            " Machine Learning Environment Ready!\n",
            " All ML libraries loaded with robust error handling\n",
            " Ready to build predictive models for drug analytics!\n"
          ]
        }
      ],
      "source": [
        "# Import necessary libraries\n",
        "import pandas as pd\n",
        "import numpy as np\n",
        "import matplotlib.pyplot as plt\n",
        "import seaborn as sns\n",
        "import plotly.express as px\n",
        "import plotly.graph_objects as go\n",
        "from plotly.subplots import make_subplots\n",
        "import warnings\n",
        "from pathlib import Path\n",
        "import pickle\n",
        "import joblib\n",
        "from datetime import datetime\n",
        "\n",
        "# Scikit-learn imports\n",
        "from sklearn.model_selection import train_test_split, cross_val_score, GridSearchCV\n",
        "from sklearn.preprocessing import StandardScaler, LabelEncoder\n",
        "from sklearn.feature_selection import SelectKBest, f_regression, f_classif\n",
        "from sklearn.metrics import (mean_squared_error, r2_score, mean_absolute_error,\n",
        "                           accuracy_score, precision_score, recall_score, f1_score,\n",
        "                           confusion_matrix, classification_report)\n",
        "\n",
        "# ML Models\n",
        "from sklearn.linear_model import LinearRegression, Ridge, Lasso, LogisticRegression\n",
        "from sklearn.ensemble import RandomForestRegressor, RandomForestClassifier, GradientBoostingRegressor, GradientBoostingClassifier\n",
        "from sklearn.neural_network import MLPRegressor, MLPClassifier\n",
        "\n",
        "# Set up plotting\n",
        "plt.style.use('seaborn-v0_8')\n",
        "sns.set_palette(\"husl\")\n",
        "warnings.filterwarnings('ignore')\n",
        "\n",
        "# Robust Plotly display function\n",
        "def show_plotly_figure(fig, title=\"\"):\n",
        "    try:\n",
        "        fig.show()\n",
        "        return True\n",
        "    except Exception as e:\n",
        "        print(f\" Plotly rendering failed: {e}\")\n",
        "        return False\n",
        "\n",
        "# Set up Plotly error handling\n",
        "original_show = go.Figure.show\n",
        "def robust_show(self, *args, **kwargs):\n",
        "    try:\n",
        "        return original_show(self, *args, **kwargs)\n",
        "    except Exception as e:\n",
        "        print(f\" Plotly rendering failed: {e}\")\n",
        "        return None\n",
        "go.Figure.show = robust_show\n",
        "\n",
        "# Set random seed\n",
        "np.random.seed(42)\n",
        "\n",
        "print(\" Machine Learning Environment Ready!\")\n",
        "print(\" All ML libraries loaded with robust error handling\")\n",
        "print(\" Ready to build predictive models for drug analytics!\")\n"
      ]
    },
    {
      "cell_type": "code",
      "execution_count": 2,
      "metadata": {},
      "outputs": [
        {
          "name": "stdout",
          "output_type": "stream",
          "text": [
            " MACHINE LEARNING DATA PREPARATION & MODEL TRAINING\n",
            "=======================================================\n",
            " Dataset loaded: (2931, 84)\n",
            "\n",
            " Dataset Overview:\n",
            "    Records: 2,931\n",
            "    Features: 84\n",
            "    Target variable: rating (0.0 - 10.0)\n",
            "\n",
            " Feature Types:\n",
            "    Numeric features: 63\n",
            "    Categorical features: 20\n",
            "\n",
            " Selected 70 features for modeling\n",
            "\n",
            " Handling Missing Values:\n",
            "\n",
            " Encoding 7 categorical variables\n",
            "\n",
            " Final Dataset for ML:\n",
            "    Feature matrix: (2931, 103)\n",
            "    Target variable: (2931,)\n",
            "    Classification categories: ['Excellent', 'Fair', 'Good', 'Poor', nan]\n",
            "\n",
            " Data Split:\n",
            "   Training set: 2,344 samples\n",
            "   Test set: 587 samples\n",
            "    Features scaled using StandardScaler\n",
            "\n",
            " REGRESSION MODELS (Rating Prediction)\n",
            "=============================================\n",
            "\n",
            " Training 6 regression models...\n",
            "   Training Linear Regression...\n",
            "      RMSE: 0.000, R²: 1.000\n",
            "   Training Ridge Regression...\n",
            "      RMSE: 0.023, R²: 1.000\n",
            "   Training Lasso Regression...\n",
            "      RMSE: 0.994, R²: 0.655\n",
            "   Training Random Forest...\n",
            "      RMSE: 0.064, R²: 0.999\n",
            "   Training Gradient Boosting...\n",
            "      RMSE: 0.091, R²: 0.997\n",
            "   Training Neural Network...\n",
            "      RMSE: 0.251, R²: 0.978\n",
            "\n",
            " CLASSIFICATION MODELS (Rating Category)\n",
            "=============================================\n",
            "\n",
            " Training 4 classification models...\n",
            "   Training Logistic Regression...\n",
            "      Accuracy: 0.094, F1: 0.028\n",
            "   Training Random Forest...\n",
            "      Accuracy: 0.501, F1: 0.489\n",
            "   Training Gradient Boosting...\n",
            "      Accuracy: 0.618, F1: 0.518\n",
            "   Training Neural Network...\n",
            "      Accuracy: 0.610, F1: 0.491\n",
            "\n",
            " Model training completed!\n",
            "    Regression models: 6 successful\n",
            "    Classification models: 4 successful\n"
          ]
        }
      ],
      "source": [
        "# Load data and prepare for ML\n",
        "print(\" MACHINE LEARNING DATA PREPARATION & MODEL TRAINING\")\n",
        "print(\"=\" * 55)\n",
        "\n",
        "# Load the processed dataset\n",
        "df = pd.read_csv(\"../data/drugs_processed.csv\")\n",
        "print(f\" Dataset loaded: {df.shape}\")\n",
        "\n",
        "# Basic data information\n",
        "print(f\"\\n Dataset Overview:\")\n",
        "print(f\"    Records: {len(df):,}\")\n",
        "print(f\"    Features: {len(df.columns)}\")\n",
        "print(f\"    Target variable: rating ({df['rating'].min():.1f} - {df['rating'].max():.1f})\")\n",
        "\n",
        "# Identify feature types\n",
        "numeric_features = df.select_dtypes(include=[np.number]).columns.tolist()\n",
        "categorical_features = df.select_dtypes(include=['object']).columns.tolist()\n",
        "\n",
        "# Remove target variable from features\n",
        "if 'rating' in numeric_features:\n",
        "    numeric_features.remove('rating')\n",
        "\n",
        "print(f\"\\n Feature Types:\")\n",
        "print(f\"    Numeric features: {len(numeric_features)}\")\n",
        "print(f\"    Categorical features: {len(categorical_features)}\")\n",
        "\n",
        "# Prepare features for modeling\n",
        "modeling_features = []\n",
        "\n",
        "# Add numeric features\n",
        "for feat in numeric_features:\n",
        "    if feat in df.columns:\n",
        "        modeling_features.append(feat)\n",
        "\n",
        "# Add categorical features with reasonable cardinality\n",
        "for feat in categorical_features:\n",
        "    if feat in df.columns:\n",
        "        unique_count = df[feat].nunique()\n",
        "        if unique_count <= 20:  # Reasonable for encoding\n",
        "            modeling_features.append(feat)\n",
        "\n",
        "print(f\"\\n Selected {len(modeling_features)} features for modeling\")\n",
        "\n",
        "# Prepare modeling dataset\n",
        "ml_data = df[modeling_features + ['rating']].copy()\n",
        "\n",
        "# Handle missing values\n",
        "print(f\"\\n Handling Missing Values:\")\n",
        "for col in ml_data.columns:\n",
        "    missing_count = ml_data[col].isnull().sum()\n",
        "    if missing_count > 0:\n",
        "        if col in numeric_features:\n",
        "            ml_data[col].fillna(ml_data[col].median(), inplace=True)\n",
        "            print(f\"   • {col}: filled {missing_count} missing values with median\")\n",
        "        else:\n",
        "            ml_data[col].fillna(ml_data[col].mode()[0], inplace=True)\n",
        "            print(f\"   • {col}: filled {missing_count} missing values with mode\")\n",
        "\n",
        "# Encode categorical variables\n",
        "categorical_cols_to_encode = [col for col in modeling_features if col in categorical_features]\n",
        "if categorical_cols_to_encode:\n",
        "    print(f\"\\n Encoding {len(categorical_cols_to_encode)} categorical variables\")\n",
        "    ml_encoded = pd.get_dummies(ml_data, columns=categorical_cols_to_encode, prefix=categorical_cols_to_encode)\n",
        "else:\n",
        "    ml_encoded = ml_data.copy()\n",
        "\n",
        "# Prepare feature matrix and target\n",
        "feature_columns = [col for col in ml_encoded.columns if col != 'rating']\n",
        "X = ml_encoded[feature_columns]\n",
        "y = ml_encoded['rating']\n",
        "\n",
        "print(f\"\\n Final Dataset for ML:\")\n",
        "print(f\"    Feature matrix: {X.shape}\")\n",
        "print(f\"    Target variable: {y.shape}\")\n",
        "\n",
        "# Create rating categories for classification\n",
        "y_classification = pd.cut(y, bins=[0, 4, 6, 8, 10], labels=['Poor', 'Fair', 'Good', 'Excellent'])\n",
        "le = LabelEncoder()\n",
        "y_classification_encoded = le.fit_transform(y_classification)\n",
        "\n",
        "print(f\"    Classification categories: {list(le.classes_)}\")\n",
        "\n",
        "# Train-test split\n",
        "X_train, X_test, y_train, y_test = train_test_split(X, y, test_size=0.2, random_state=42)\n",
        "X_train_cls, X_test_cls, y_train_cls, y_test_cls = train_test_split(\n",
        "    X, y_classification_encoded, test_size=0.2, random_state=42, stratify=y_classification_encoded\n",
        ")\n",
        "\n",
        "print(f\"\\n Data Split:\")\n",
        "print(f\"   Training set: {X_train.shape[0]:,} samples\")\n",
        "print(f\"   Test set: {X_test.shape[0]:,} samples\")\n",
        "\n",
        "# Feature scaling\n",
        "scaler = StandardScaler()\n",
        "X_train_scaled = scaler.fit_transform(X_train)\n",
        "X_test_scaled = scaler.transform(X_test)\n",
        "\n",
        "print(f\"    Features scaled using StandardScaler\")\n",
        "\n",
        "# REGRESSION MODELS\n",
        "print(f\"\\n REGRESSION MODELS (Rating Prediction)\")\n",
        "print(\"=\" * 45)\n",
        "\n",
        "regression_models = {\n",
        "    'Linear Regression': LinearRegression(),\n",
        "    'Ridge Regression': Ridge(alpha=1.0),\n",
        "    'Lasso Regression': Lasso(alpha=1.0),\n",
        "    'Random Forest': RandomForestRegressor(n_estimators=100, random_state=42),\n",
        "    'Gradient Boosting': GradientBoostingRegressor(n_estimators=100, random_state=42),\n",
        "    'Neural Network': MLPRegressor(hidden_layer_sizes=(100, 50), max_iter=500, random_state=42)\n",
        "}\n",
        "\n",
        "regression_results = {}\n",
        "print(f\"\\n Training {len(regression_models)} regression models...\")\n",
        "\n",
        "for name, model in regression_models.items():\n",
        "    try:\n",
        "        print(f\"   Training {name}...\")\n",
        "        \n",
        "        # Use scaled features for linear models and neural networks\n",
        "        if name in ['Linear Regression', 'Ridge Regression', 'Lasso Regression', 'Neural Network']:\n",
        "            model.fit(X_train_scaled, y_train)\n",
        "            y_pred = model.predict(X_test_scaled)\n",
        "        else:\n",
        "            model.fit(X_train, y_train)\n",
        "            y_pred = model.predict(X_test)\n",
        "        \n",
        "        # Calculate metrics\n",
        "        mse = mean_squared_error(y_test, y_pred)\n",
        "        rmse = np.sqrt(mse)\n",
        "        mae = mean_absolute_error(y_test, y_pred)\n",
        "        r2 = r2_score(y_test, y_pred)\n",
        "        \n",
        "        regression_results[name] = {\n",
        "            'MSE': mse,\n",
        "            'RMSE': rmse,\n",
        "            'MAE': mae,\n",
        "            'R²': r2,\n",
        "            'model': model,\n",
        "            'predictions': y_pred\n",
        "        }\n",
        "        \n",
        "        print(f\"      RMSE: {rmse:.3f}, R²: {r2:.3f}\")\n",
        "        \n",
        "    except Exception as e:\n",
        "        print(f\"      Failed: {str(e)[:50]}...\")\n",
        "\n",
        "# CLASSIFICATION MODELS\n",
        "print(f\"\\n CLASSIFICATION MODELS (Rating Category)\")\n",
        "print(\"=\" * 45)\n",
        "\n",
        "classification_models = {\n",
        "    'Logistic Regression': LogisticRegression(random_state=42, max_iter=1000),\n",
        "    'Random Forest': RandomForestClassifier(n_estimators=100, random_state=42),\n",
        "    'Gradient Boosting': GradientBoostingClassifier(n_estimators=100, random_state=42),\n",
        "    'Neural Network': MLPClassifier(hidden_layer_sizes=(100, 50), max_iter=500, random_state=42)\n",
        "}\n",
        "\n",
        "classification_results = {}\n",
        "print(f\"\\n Training {len(classification_models)} classification models...\")\n",
        "\n",
        "for name, model in classification_models.items():\n",
        "    try:\n",
        "        print(f\"   Training {name}...\")\n",
        "        \n",
        "        # Use scaled features for linear models and neural networks\n",
        "        if name in ['Logistic Regression', 'Neural Network']:\n",
        "            model.fit(X_train_scaled, y_train_cls)\n",
        "            y_pred = model.predict(X_test_cls)\n",
        "        else:\n",
        "            model.fit(X_train, y_train_cls)\n",
        "            y_pred = model.predict(X_test_cls)\n",
        "        \n",
        "        # Calculate metrics\n",
        "        accuracy = accuracy_score(y_test_cls, y_pred)\n",
        "        precision = precision_score(y_test_cls, y_pred, average='weighted')\n",
        "        recall = recall_score(y_test_cls, y_pred, average='weighted')\n",
        "        f1 = f1_score(y_test_cls, y_pred, average='weighted')\n",
        "        \n",
        "        classification_results[name] = {\n",
        "            'Accuracy': accuracy,\n",
        "            'Precision': precision,\n",
        "            'Recall': recall,\n",
        "            'F1-Score': f1,\n",
        "            'model': model,\n",
        "            'predictions': y_pred\n",
        "        }\n",
        "        \n",
        "        print(f\"      Accuracy: {accuracy:.3f}, F1: {f1:.3f}\")\n",
        "        \n",
        "    except Exception as e:\n",
        "        print(f\"      Failed: {str(e)[:50]}...\")\n",
        "\n",
        "print(f\"\\n Model training completed!\")\n",
        "print(f\"    Regression models: {len(regression_results)} successful\")\n",
        "print(f\"    Classification models: {len(classification_results)} successful\")\n"
      ]
    },
    {
      "cell_type": "markdown",
      "metadata": {},
      "source": [
        "---"
      ]
    },
    {
      "cell_type": "code",
      "execution_count": 3,
      "metadata": {},
      "outputs": [
        {
          "name": "stdout",
          "output_type": "stream",
          "text": [
            " MODEL EVALUATION & BUSINESS INSIGHTS\n",
            "=============================================\n",
            "\n",
            " 1. Regression Model Performance Comparison\n",
            "\n",
            " Regression Model Rankings (by R² Score):\n",
            "Model                RMSE     MAE      R²      \n",
            "---------------------------------------------\n",
            "1. Linear Regression 0.000    0.000   1.000\n",
            "2. Ridge Regression  0.023    0.007   1.000\n",
            "3. Random Forest     0.064    0.008   0.999\n",
            "4. Gradient Boosting 0.091    0.021   0.997\n",
            "5. Neural Network    0.251    0.148   0.978\n",
            "6. Lasso Regression  0.994    0.601   0.655\n",
            "\n",
            " Best Regression Model: Linear Regression\n",
            "    R² Score: 1.000 (explains 100.0% of variance)\n",
            "    RMSE: 0.000 (average error of ~0.0 rating points)\n",
            "\n",
            " 2. Classification Model Performance Comparison\n",
            "\n",
            " Classification Model Rankings (by F1-Score):\n",
            "Model                Accuracy  Precision  Recall   F1-Score\n",
            "------------------------------------------------------------\n",
            "1. Gradient Boosting 0.618     0.478      0.618    0.518\n",
            "2. Neural Network    0.610     0.411      0.610    0.491\n",
            "3. Random Forest     0.501     0.479      0.501    0.489\n",
            "4. Logistic Regression 0.094     0.017      0.094    0.028\n",
            "\n",
            " Best Classification Model: Gradient Boosting\n",
            "    Accuracy: 0.618 (61.8% correct predictions)\n",
            "    F1-Score: 0.518 (balanced precision-recall performance)\n",
            "\n",
            " 3. Model Performance Visualization\n"
          ]
        },
        {
          "data": {
            "application/vnd.plotly.v1+json": {
              "config": {
                "plotlyServerURL": "https://plot.ly"
              },
              "data": [
                {
                  "marker": {
                    "color": "lightblue"
                  },
                  "name": "R² Score",
                  "text": [
                    "1.000",
                    "1.000",
                    "0.999",
                    "0.997",
                    "0.978",
                    "0.655"
                  ],
                  "type": "bar",
                  "x": [
                    "Linear Regression",
                    "Ridge Regression",
                    "Random Forest",
                    "Gradient Boosting",
                    "Neural Network",
                    "Lasso Regression"
                  ],
                  "xaxis": "x",
                  "y": {
                    "bdata": "AAAAAAAA8D+NXAI1if7vPyrWOkFI9O8/lKY7TCXo7z8zIRW1D0zvPzfzQqQ09eQ/",
                    "dtype": "f8"
                  },
                  "yaxis": "y"
                },
                {
                  "marker": {
                    "color": "lightgreen"
                  },
                  "name": "F1 Score",
                  "text": [
                    "0.518",
                    "0.491",
                    "0.489",
                    "0.028"
                  ],
                  "type": "bar",
                  "x": [
                    "Gradient Boosting",
                    "Neural Network",
                    "Random Forest",
                    "Logistic Regression"
                  ],
                  "xaxis": "x2",
                  "y": {
                    "bdata": "Zpm3KWGX4D/0EKhh6GzfP6slThalTt8/i58jNhTDnD8=",
                    "dtype": "f8"
                  },
                  "yaxis": "y2"
                },
                {
                  "marker": {
                    "opacity": 0.6,
                    "size": 5
                  },
                  "mode": "markers",
                  "name": "Predictions",
                  "type": "scatter",
                  "x": {
                    "bdata": "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",
                    "dtype": "f8"
                  },
                  "xaxis": "x3",
                  "y": {
                    "bdata": "a2ZmZmZmFED9//////8bQNLMzMzMzBpAAAAAAAAAHECemZmZmZkNQAgAAAAAABxAAwAAAAAAHEAGAAAAAAAcQJ+ZmZmZmRdAAQAAAAAAHEAzMzMzMzMhQAUAAAAAABxAaGZmZmZmCkABAAAAAAAcQAAAAAAAACRABAAAAAAAHEACAAAAAAAcQOj//////+8/+P//////H0ADAAAAAAAcQDQzMzMzMxNA/f//////G0AAAAAAAAAcQAMAAAAAABxAAwAAAAAAHEA4MzMzMzMXQPz//////yFA/v//////G0AxMzMzMzMhQNDMzMzMzBRAAAAAAAAAHEABAAAAAAAcQP3//////xtABAAAAAAAFED+//////8bQAQAAAAAABxAAgAAAAAAHED8//////8bQAMAAAAAAB5Az8zMzMzMHED9//////8bQJaZmZmZmR1ABAAAAAAAHED+//////8bQP7//////xtA////////G0DSzMzMzMwWQDczMzMzMxlA/v//////E0D+//////8jQAAAAAAAABxAAgAAAAAAHECWmZmZmZkiQP///////yNAzczMzMzMHED8//////8jQAMAAAAAABxA////////I0A6MzMzMzMdQAcAAAAAABxAzszMzMzMEED8///////3P2tmZmZmZhxABgAAAAAAHEABAAAAAAAiQDAzMzMzMyJAYmZmZmZmIEDTzMzMzMwYQAEAAAAAABxAAgAAAAAAHEAyMzMzMzMRQP3//////yNABAAAAAAAFED///////8bQPz//////yFAAAAAAAAAJEA6MzMzMzMdQP7//////xtA/f//////G0BqZmZmZmYWQAYAAAAAABxA////////G0AEAAAAAAAcQMvMzMzMzBZA/f//////G0D+//////8iQAIAAAAAABxAAQAAAAAAHEAAAAAAAADoPGRmZmZmZiNA/v//////I0ACAAAAAAAcQAgAAAAAABxABAAAAAAAEkD///////8bQP7//////x9ABAAAAAAAHEACAAAAAAAcQP///////yNA////////G0A3MzMzMzMRQAAAAAAAACJAAgAAAAAAGED8//////8bQAMAAAAAABxAAgAAAAAAHEAAAAAAAAAcQP7//////yFAm5mZmZmZIEACAAAAAAAcQAAAAAAAABxAAAAAAAAAHEAQAAAAAADwPzYzMzMzMx1A0szMzMzMGkAxMzMzMzMgQP///////yNAAAAAAAAAHED8//////8bQAIAAAAAABBA////////G0DMzMzMzMwUQP3//////xtA/v//////G0D8//////8bQAYAAAAAABxABAAAAAAAHED7//////8bQAIAAAAAABxAAwAAAAAAHEDVzMzMzMwIQP3//////xtA/v//////G0AKAAAAAAAcQAMAAAAAABxAnZmZmZmZG0AAAAAAAAAcQKSZmZmZmRtAy8zMzMzMHEBqZmZmZmYaQP7//////yNAZmZmZmZmHEBmZmZmZmYjQP///////xtAAAAAAAAAJEADAAAAAAAcQDUzMzMzMxFA/v//////G0AEAAAAAAAcQAEAAAAAABxAa2ZmZmZmHkBpZmZmZmYaQAIAAAAAABxAAgAAAAAAHED9//////8bQP///////yNAAAAAAAAAHEACAAAAAAAcQDUzMzMzMxtA/P//////G0ABAAAAAAAcQAMAAAAAABxAZ2ZmZmZmFED+//////8bQP7//////xtAZmZmZmZmI0ABAAAAAAAcQAEAAAAAABxAamZmZmZmGkD9//////8bQAAAAAAAANA8AQAAAAAAHEAAAAAAAAAcQAMAAAAAABxABAAAAAAAHEAAAAAAAAAcQPf//////xtAAwAAAAAAHEA5MzMzMzMVQP7//////xtACAAAAAAAHkDRzMzMzMwUQAEAAAAAABhA////////G0ACAAAAAAAcQAAAAAAAABxA/f//////D0AAAAAAAAAgQGVmZmZmZhZAAQAAAAAAHEBlZmZmZmYaQAMAAAAAABZAZ2ZmZmZmFEAAAAAAAAAcQKKZmZmZmQ1AmpmZmZmZIUABAAAAAAAcQAYAAAAAABZAAwAAAAAAHEDSzMzMzMwcQAIAAAAAABxAAQAAAAAAHEAIAAAAAAAcQP///////yFANTMzMzMzF0D7//////8jQAoAAAAAAABAAAAAAAAAHED3//////8bQP7//////yNAODMzMzMzHUD7//////8fQAoAAAAAABpA////////G0CdmZmZmZkdQGRmZmZmZhRA////////G0ABAAAAAAAcQPr//////xtABAAAAAAAHED5//////8bQJ2ZmZmZmRVANTMzMzMzHUD7//////8HQPv//////yNABAAAAAAAHEDRzMzMzMwaQAgAAAAAAB5A+///////G0AEAAAAAAAcQAUAAAAAABxA/f//////G0AyMzMzMzMgQP7//////yFAMzMzMzMzF0CYmZmZmZkVQP///////yNA////////H0DWzMzMzMwWQM7MzMzMzBRA/f//////G0D+//////8bQAAAAAAAABxAaGZmZmZmHED9//////8jQAEAAAAAABxAmZmZmZmZGUACAAAAAAAiQGVmZmZmZiFA/v//////H0AHAAAAAAAcQPz//////xtAm5mZmZmZIECamZmZmZkiQGpmZmZmZhhAm5mZmZmZI0DSzMzMzMwYQKOZmZmZmR1Am5mZmZmZH0BqZmZmZmYeQDozMzMzMxFABQAAAAAAHED+//////8bQAAAAAAAABxAAAAAAAAAHED+//////8jQP3//////xtA/v//////G0ADAAAAAAAcQA4AAAAAAAhA/f//////G0ABAAAAAAAcQP///////xtAmZmZmZmZIkD9//////8bQJyZmZmZmR9A////////H0AMAAAAAADwP/z//////yFA/v//////FUD+//////8bQDozMzMzMxlAzszMzMzMHkAAAAAAAAAgQAQAAAAAABxAzszMzMzMIkCZmZmZmZkXQAUAAAAAABxAAgAAAAAAHED8//////8bQP7//////x9A////////G0AEAAAAAAAcQDAzMzMzMyJAAQAAAAAAIUDKzMzMzMwiQPr//////x9An5mZmZmZEUAAAAAAAAAiQAcAAAAAABxAAgAAAAAAHkAIAAAAAAAeQAAAAAAAABxAAAAAAAAAHED///////8bQAMAAAAAABxAAgAAAAAAHED+//////8jQAMAAAAAABxABgAAAAAAFkCYmZmZmZkRQDQzMzMzMxFALjMzMzMzIkDOzMzMzMwgQAQAAAAAABxAAQAAAAAAHED9//////8bQAIAAAAAACRANTMzMzMzG0ADAAAAAAAcQAMAAAAAABxARTMzMzMzEUD+//////8bQPj//////xtA/P//////G0AEAAAAAAAcQAQAAAAAABxAmpmZmZmZIUAEAAAAAAAcQAIAAAAAABxAAAAAAAAAJECamZmZmZkiQAAAAAAAABxAAQAAAAAAHED7//////8bQP///////xtAAgAAAAAAHEADAAAAAAAYQJmZmZmZmRtAMjMzMzMzGUA0MzMzMzMhQNLMzMzMzBxABwAAAAAAHEAAAAAAAAAcQGhmZmZmZhhAlpmZmZmZGUAEAAAAAAAcQPn//////xtAm5mZmZmZIEACAAAAAAAcQMzMzMzMzCBA////////G0D///////8bQJmZmZmZmSNA////////G0AEAAAAAAAUQDozMzMzMx1A/P//////G0D6//////8bQAEAAAAAABxA////////G0ADAAAAAAAcQAMAAAAAABxAAgAAAAAAHED8//////8bQPz//////xtAAgAAAAAAHEABAAAAAAAcQNLMzMzMzBBA////////G0ClmZmZmZkbQJiZmZmZmSBAAwAAAAAAHEDSzMzMzMweQAAAAAAAACJAnpmZmZmZGUD///////8fQAIAAAAAABxAAgAAAAAAIEAEAAAAAAAcQP3//////xtAmpmZmZmZIEABAAAAAAAcQDQzMzMzMyNAMDMzMzMzIEBuZmZmZmYWQAEAAAAAACJAAgAAAAAAHEAAAAAAAAAcQAAAAAAAACFA28zMzMzMDEAAAAAAAAAiQAEAAAAAABxAAgAAAAAAHEABAAAAAAAUQDQzMzMzMxdAa2ZmZmZmHEBkZmZmZmYWQAAAAAAAAOC8BgAAAAAAGED9//////8iQJqZmZmZmRdAAQAAAAAAHED7//////8fQAgAAAAAAB5A/v//////G0BmZmZmZmYKQAEAAAAAABxABAAAAAAA8D9qZmZmZmYeQP7//////xtAa2ZmZmZmHEAAAAAAAAAUQAAAAAAAAPA/AgAAAAAAHEBvZmZmZmYcQHFmZmZmZhhAcGZmZmZmHECemZmZmZkhQJuZmZmZmRNABAAAAAAAFkADAAAAAAAUQGtmZmZmZhxABQAAAAAAHkACAAAAAAAcQNLMzMzMzBZAOjMzMzMzE0D///////8gQAAAAAAAABxABAAAAAAAEkAJAAAAAAAcQGlmZmZmZhhAnZmZmZmZG0AAAAAAAAAcQPj//////+8/AAAAAAAAIED+//////8bQP3//////xtAOzMzMzMzG0D+//////8hQP///////xtABgAAAAAAHEACAAAAAAAkQP3//////xtA1MzMzMzMFEAAAAAAAAAkQP7//////xtApZmZmZmZH0ByZmZmZmYeQAEAAAAAABxA/P//////G0A3MzMzMzMbQAAAAAAAABxABQAAAAAAFED+//////8bQAcAAAAAAB5AAAAAAAAAHED9//////8bQAcAAAAAABxABAAAAAAAHED+//////8PQGZmZmZmZhZANDMzMzMzGUABAAAAAAAcQP///////xtA////////E0AKAAAAAAAcQAAAAAAAAOA89P///////z8DAAAAAAAcQJ+ZmZmZmRlAz8zMzMzMDEA/MzMzMzMfQAIAAAAAABxAAQAAAAAAHEAAAAAAAAAUQAIAAAAAACRAmJmZmZmZIEAAAAAAAAAcQAAAAAAAABxAAwAAAAAAHED8//////8jQAAAAAAAAPA/AAAAAAAA8D9pZmZmZmYaQPz//////yFAAgAAAAAAHED7//////8bQAEAAAAAABhACAAAAAAAFEA3MzMzMzMbQJyZmZmZmR1AAQAAAAAAHED+//////8bQAEAAAAAABxAAAAAAAAA9LwEAAAAAAASQP7//////yNABAAAAAAAHEACAAAAAAAQQP7//////xtAcWZmZmZmHkADAAAAAAAcQAAAAAAAACJA+v//////G0D+//////8bQP///////yNAPjMzMzMzEUD8//////8jQAUAAAAAABxAODMzMzMzGUAFAAAAAAAcQPz//////x1ABQAAAAAAFkD8//////8jQDUzMzMzMyBAMTMzMzMzHUCYmZmZmZkgQF9mZmZmZgpABgAAAAAAHEABAAAAAAAcQAMAAAAAABxABQAAAAAAHED8//////8bQAIAAAAAABxAODMzMzMzFUADAAAAAAAeQP///////xtAAAAAAAAAJEABAAAAAAAcQDozMzMzMxdAyMzMzMzMBEAHAAAAAAAcQPz//////xtA////////G0BmZmZmZmYSQAIAAAAAABJAAAAAAAAAIkDQzMzMzMwaQP3//////xtAAQAAAAAAIkBmZmZmZmYjQAYAAAAAABxAAQAAAAAAHEABAAAAAAAcQAIAAAAAABhAbmZmZmZmAkAxMzMzMzMgQAIAAAAAABxA////////G0BvZmZmZmYaQDUzMzMzMyBA////////IUABAAAAAAAcQP7//////xtAAQAAAAAAHEAAAAAAAAAcQP///////xtANDMzMzMzF0D9//////8iQPn//////xtAAgAAAAAAHkBrZmZmZmYcQAUAAAAAABpAy8zMzMzMFEABAAAAAAAcQP///////xtAAgAAAAAAHECamZmZmZkgQAUAAAAAABxABAAAAAAAHEA3MzMzMzMZQAEAAAAAABhA/v//////G0D///////8bQAIAAAAAABxA/P//////I0D9//////8hQP3//////xtAAQAAAAAAHED+//////8bQJCZmZmZmQVAAwAAAAAAJEACAAAAAAAcQAQAAAAAABxA////////G0AAAAAAAAAcQA==",
                    "dtype": "f8"
                  },
                  "yaxis": "y3"
                },
                {
                  "line": {
                    "color": "red",
                    "dash": "dash"
                  },
                  "mode": "lines",
                  "name": "Perfect Prediction",
                  "type": "scatter",
                  "x": [
                    -4.440892098500626e-15,
                    10.000000000000005
                  ],
                  "xaxis": "x3",
                  "y": [
                    -4.440892098500626e-15,
                    10.000000000000005
                  ],
                  "yaxis": "y3"
                },
                {
                  "marker": {
                    "color": "salmon"
                  },
                  "name": "Residuals",
                  "nbinsx": 30,
                  "opacity": 0.7,
                  "type": "histogram",
                  "x": {
                    "bdata": "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",
                    "dtype": "f8"
                  },
                  "xaxis": "x4",
                  "yaxis": "y4"
                }
              ],
              "layout": {
                "annotations": [
                  {
                    "font": {
                      "size": 16
                    },
                    "showarrow": false,
                    "text": "Regression R² Scores",
                    "x": 0.225,
                    "xanchor": "center",
                    "xref": "paper",
                    "y": 1,
                    "yanchor": "bottom",
                    "yref": "paper"
                  },
                  {
                    "font": {
                      "size": 16
                    },
                    "showarrow": false,
                    "text": "Classification F1 Scores",
                    "x": 0.775,
                    "xanchor": "center",
                    "xref": "paper",
                    "y": 1,
                    "yanchor": "bottom",
                    "yref": "paper"
                  },
                  {
                    "font": {
                      "size": 16
                    },
                    "showarrow": false,
                    "text": "Prediction vs Actual (Best Regression)",
                    "x": 0.225,
                    "xanchor": "center",
                    "xref": "paper",
                    "y": 0.375,
                    "yanchor": "bottom",
                    "yref": "paper"
                  },
                  {
                    "font": {
                      "size": 16
                    },
                    "showarrow": false,
                    "text": "Error Distribution",
                    "x": 0.775,
                    "xanchor": "center",
                    "xref": "paper",
                    "y": 0.375,
                    "yanchor": "bottom",
                    "yref": "paper"
                  }
                ],
                "height": 800,
                "showlegend": false,
                "template": {
                  "data": {
                    "bar": [
                      {
                        "error_x": {
                          "color": "#2a3f5f"
                        },
                        "error_y": {
                          "color": "#2a3f5f"
                        },
                        "marker": {
                          "line": {
                            "color": "#E5ECF6",
                            "width": 0.5
                          },
                          "pattern": {
                            "fillmode": "overlay",
                            "size": 10,
                            "solidity": 0.2
                          }
                        },
                        "type": "bar"
                      }
                    ],
                    "barpolar": [
                      {
                        "marker": {
                          "line": {
                            "color": "#E5ECF6",
                            "width": 0.5
                          },
                          "pattern": {
                            "fillmode": "overlay",
                            "size": 10,
                            "solidity": 0.2
                          }
                        },
                        "type": "barpolar"
                      }
                    ],
                    "carpet": [
                      {
                        "aaxis": {
                          "endlinecolor": "#2a3f5f",
                          "gridcolor": "white",
                          "linecolor": "white",
                          "minorgridcolor": "white",
                          "startlinecolor": "#2a3f5f"
                        },
                        "baxis": {
                          "endlinecolor": "#2a3f5f",
                          "gridcolor": "white",
                          "linecolor": "white",
                          "minorgridcolor": "white",
                          "startlinecolor": "#2a3f5f"
                        },
                        "type": "carpet"
                      }
                    ],
                    "choropleth": [
                      {
                        "colorbar": {
                          "outlinewidth": 0,
                          "ticks": ""
                        },
                        "type": "choropleth"
                      }
                    ],
                    "contour": [
                      {
                        "colorbar": {
                          "outlinewidth": 0,
                          "ticks": ""
                        },
                        "colorscale": [
                          [
                            0,
                            "#0d0887"
                          ],
                          [
                            0.1111111111111111,
                            "#46039f"
                          ],
                          [
                            0.2222222222222222,
                            "#7201a8"
                          ],
                          [
                            0.3333333333333333,
                            "#9c179e"
                          ],
                          [
                            0.4444444444444444,
                            "#bd3786"
                          ],
                          [
                            0.5555555555555556,
                            "#d8576b"
                          ],
                          [
                            0.6666666666666666,
                            "#ed7953"
                          ],
                          [
                            0.7777777777777778,
                            "#fb9f3a"
                          ],
                          [
                            0.8888888888888888,
                            "#fdca26"
                          ],
                          [
                            1,
                            "#f0f921"
                          ]
                        ],
                        "type": "contour"
                      }
                    ],
                    "contourcarpet": [
                      {
                        "colorbar": {
                          "outlinewidth": 0,
                          "ticks": ""
                        },
                        "type": "contourcarpet"
                      }
                    ],
                    "heatmap": [
                      {
                        "colorbar": {
                          "outlinewidth": 0,
                          "ticks": ""
                        },
                        "colorscale": [
                          [
                            0,
                            "#0d0887"
                          ],
                          [
                            0.1111111111111111,
                            "#46039f"
                          ],
                          [
                            0.2222222222222222,
                            "#7201a8"
                          ],
                          [
                            0.3333333333333333,
                            "#9c179e"
                          ],
                          [
                            0.4444444444444444,
                            "#bd3786"
                          ],
                          [
                            0.5555555555555556,
                            "#d8576b"
                          ],
                          [
                            0.6666666666666666,
                            "#ed7953"
                          ],
                          [
                            0.7777777777777778,
                            "#fb9f3a"
                          ],
                          [
                            0.8888888888888888,
                            "#fdca26"
                          ],
                          [
                            1,
                            "#f0f921"
                          ]
                        ],
                        "type": "heatmap"
                      }
                    ],
                    "histogram": [
                      {
                        "marker": {
                          "pattern": {
                            "fillmode": "overlay",
                            "size": 10,
                            "solidity": 0.2
                          }
                        },
                        "type": "histogram"
                      }
                    ],
                    "histogram2d": [
                      {
                        "colorbar": {
                          "outlinewidth": 0,
                          "ticks": ""
                        },
                        "colorscale": [
                          [
                            0,
                            "#0d0887"
                          ],
                          [
                            0.1111111111111111,
                            "#46039f"
                          ],
                          [
                            0.2222222222222222,
                            "#7201a8"
                          ],
                          [
                            0.3333333333333333,
                            "#9c179e"
                          ],
                          [
                            0.4444444444444444,
                            "#bd3786"
                          ],
                          [
                            0.5555555555555556,
                            "#d8576b"
                          ],
                          [
                            0.6666666666666666,
                            "#ed7953"
                          ],
                          [
                            0.7777777777777778,
                            "#fb9f3a"
                          ],
                          [
                            0.8888888888888888,
                            "#fdca26"
                          ],
                          [
                            1,
                            "#f0f921"
                          ]
                        ],
                        "type": "histogram2d"
                      }
                    ],
                    "histogram2dcontour": [
                      {
                        "colorbar": {
                          "outlinewidth": 0,
                          "ticks": ""
                        },
                        "colorscale": [
                          [
                            0,
                            "#0d0887"
                          ],
                          [
                            0.1111111111111111,
                            "#46039f"
                          ],
                          [
                            0.2222222222222222,
                            "#7201a8"
                          ],
                          [
                            0.3333333333333333,
                            "#9c179e"
                          ],
                          [
                            0.4444444444444444,
                            "#bd3786"
                          ],
                          [
                            0.5555555555555556,
                            "#d8576b"
                          ],
                          [
                            0.6666666666666666,
                            "#ed7953"
                          ],
                          [
                            0.7777777777777778,
                            "#fb9f3a"
                          ],
                          [
                            0.8888888888888888,
                            "#fdca26"
                          ],
                          [
                            1,
                            "#f0f921"
                          ]
                        ],
                        "type": "histogram2dcontour"
                      }
                    ],
                    "mesh3d": [
                      {
                        "colorbar": {
                          "outlinewidth": 0,
                          "ticks": ""
                        },
                        "type": "mesh3d"
                      }
                    ],
                    "parcoords": [
                      {
                        "line": {
                          "colorbar": {
                            "outlinewidth": 0,
                            "ticks": ""
                          }
                        },
                        "type": "parcoords"
                      }
                    ],
                    "pie": [
                      {
                        "automargin": true,
                        "type": "pie"
                      }
                    ],
                    "scatter": [
                      {
                        "fillpattern": {
                          "fillmode": "overlay",
                          "size": 10,
                          "solidity": 0.2
                        },
                        "type": "scatter"
                      }
                    ],
                    "scatter3d": [
                      {
                        "line": {
                          "colorbar": {
                            "outlinewidth": 0,
                            "ticks": ""
                          }
                        },
                        "marker": {
                          "colorbar": {
                            "outlinewidth": 0,
                            "ticks": ""
                          }
                        },
                        "type": "scatter3d"
                      }
                    ],
                    "scattercarpet": [
                      {
                        "marker": {
                          "colorbar": {
                            "outlinewidth": 0,
                            "ticks": ""
                          }
                        },
                        "type": "scattercarpet"
                      }
                    ],
                    "scattergeo": [
                      {
                        "marker": {
                          "colorbar": {
                            "outlinewidth": 0,
                            "ticks": ""
                          }
                        },
                        "type": "scattergeo"
                      }
                    ],
                    "scattergl": [
                      {
                        "marker": {
                          "colorbar": {
                            "outlinewidth": 0,
                            "ticks": ""
                          }
                        },
                        "type": "scattergl"
                      }
                    ],
                    "scattermap": [
                      {
                        "marker": {
                          "colorbar": {
                            "outlinewidth": 0,
                            "ticks": ""
                          }
                        },
                        "type": "scattermap"
                      }
                    ],
                    "scattermapbox": [
                      {
                        "marker": {
                          "colorbar": {
                            "outlinewidth": 0,
                            "ticks": ""
                          }
                        },
                        "type": "scattermapbox"
                      }
                    ],
                    "scatterpolar": [
                      {
                        "marker": {
                          "colorbar": {
                            "outlinewidth": 0,
                            "ticks": ""
                          }
                        },
                        "type": "scatterpolar"
                      }
                    ],
                    "scatterpolargl": [
                      {
                        "marker": {
                          "colorbar": {
                            "outlinewidth": 0,
                            "ticks": ""
                          }
                        },
                        "type": "scatterpolargl"
                      }
                    ],
                    "scatterternary": [
                      {
                        "marker": {
                          "colorbar": {
                            "outlinewidth": 0,
                            "ticks": ""
                          }
                        },
                        "type": "scatterternary"
                      }
                    ],
                    "surface": [
                      {
                        "colorbar": {
                          "outlinewidth": 0,
                          "ticks": ""
                        },
                        "colorscale": [
                          [
                            0,
                            "#0d0887"
                          ],
                          [
                            0.1111111111111111,
                            "#46039f"
                          ],
                          [
                            0.2222222222222222,
                            "#7201a8"
                          ],
                          [
                            0.3333333333333333,
                            "#9c179e"
                          ],
                          [
                            0.4444444444444444,
                            "#bd3786"
                          ],
                          [
                            0.5555555555555556,
                            "#d8576b"
                          ],
                          [
                            0.6666666666666666,
                            "#ed7953"
                          ],
                          [
                            0.7777777777777778,
                            "#fb9f3a"
                          ],
                          [
                            0.8888888888888888,
                            "#fdca26"
                          ],
                          [
                            1,
                            "#f0f921"
                          ]
                        ],
                        "type": "surface"
                      }
                    ],
                    "table": [
                      {
                        "cells": {
                          "fill": {
                            "color": "#EBF0F8"
                          },
                          "line": {
                            "color": "white"
                          }
                        },
                        "header": {
                          "fill": {
                            "color": "#C8D4E3"
                          },
                          "line": {
                            "color": "white"
                          }
                        },
                        "type": "table"
                      }
                    ]
                  },
                  "layout": {
                    "annotationdefaults": {
                      "arrowcolor": "#2a3f5f",
                      "arrowhead": 0,
                      "arrowwidth": 1
                    },
                    "autotypenumbers": "strict",
                    "coloraxis": {
                      "colorbar": {
                        "outlinewidth": 0,
                        "ticks": ""
                      }
                    },
                    "colorscale": {
                      "diverging": [
                        [
                          0,
                          "#8e0152"
                        ],
                        [
                          0.1,
                          "#c51b7d"
                        ],
                        [
                          0.2,
                          "#de77ae"
                        ],
                        [
                          0.3,
                          "#f1b6da"
                        ],
                        [
                          0.4,
                          "#fde0ef"
                        ],
                        [
                          0.5,
                          "#f7f7f7"
                        ],
                        [
                          0.6,
                          "#e6f5d0"
                        ],
                        [
                          0.7,
                          "#b8e186"
                        ],
                        [
                          0.8,
                          "#7fbc41"
                        ],
                        [
                          0.9,
                          "#4d9221"
                        ],
                        [
                          1,
                          "#276419"
                        ]
                      ],
                      "sequential": [
                        [
                          0,
                          "#0d0887"
                        ],
                        [
                          0.1111111111111111,
                          "#46039f"
                        ],
                        [
                          0.2222222222222222,
                          "#7201a8"
                        ],
                        [
                          0.3333333333333333,
                          "#9c179e"
                        ],
                        [
                          0.4444444444444444,
                          "#bd3786"
                        ],
                        [
                          0.5555555555555556,
                          "#d8576b"
                        ],
                        [
                          0.6666666666666666,
                          "#ed7953"
                        ],
                        [
                          0.7777777777777778,
                          "#fb9f3a"
                        ],
                        [
                          0.8888888888888888,
                          "#fdca26"
                        ],
                        [
                          1,
                          "#f0f921"
                        ]
                      ],
                      "sequentialminus": [
                        [
                          0,
                          "#0d0887"
                        ],
                        [
                          0.1111111111111111,
                          "#46039f"
                        ],
                        [
                          0.2222222222222222,
                          "#7201a8"
                        ],
                        [
                          0.3333333333333333,
                          "#9c179e"
                        ],
                        [
                          0.4444444444444444,
                          "#bd3786"
                        ],
                        [
                          0.5555555555555556,
                          "#d8576b"
                        ],
                        [
                          0.6666666666666666,
                          "#ed7953"
                        ],
                        [
                          0.7777777777777778,
                          "#fb9f3a"
                        ],
                        [
                          0.8888888888888888,
                          "#fdca26"
                        ],
                        [
                          1,
                          "#f0f921"
                        ]
                      ]
                    },
                    "colorway": [
                      "#636efa",
                      "#EF553B",
                      "#00cc96",
                      "#ab63fa",
                      "#FFA15A",
                      "#19d3f3",
                      "#FF6692",
                      "#B6E880",
                      "#FF97FF",
                      "#FECB52"
                    ],
                    "font": {
                      "color": "#2a3f5f"
                    },
                    "geo": {
                      "bgcolor": "white",
                      "lakecolor": "white",
                      "landcolor": "#E5ECF6",
                      "showlakes": true,
                      "showland": true,
                      "subunitcolor": "white"
                    },
                    "hoverlabel": {
                      "align": "left"
                    },
                    "hovermode": "closest",
                    "mapbox": {
                      "style": "light"
                    },
                    "paper_bgcolor": "white",
                    "plot_bgcolor": "#E5ECF6",
                    "polar": {
                      "angularaxis": {
                        "gridcolor": "white",
                        "linecolor": "white",
                        "ticks": ""
                      },
                      "bgcolor": "#E5ECF6",
                      "radialaxis": {
                        "gridcolor": "white",
                        "linecolor": "white",
                        "ticks": ""
                      }
                    },
                    "scene": {
                      "xaxis": {
                        "backgroundcolor": "#E5ECF6",
                        "gridcolor": "white",
                        "gridwidth": 2,
                        "linecolor": "white",
                        "showbackground": true,
                        "ticks": "",
                        "zerolinecolor": "white"
                      },
                      "yaxis": {
                        "backgroundcolor": "#E5ECF6",
                        "gridcolor": "white",
                        "gridwidth": 2,
                        "linecolor": "white",
                        "showbackground": true,
                        "ticks": "",
                        "zerolinecolor": "white"
                      },
                      "zaxis": {
                        "backgroundcolor": "#E5ECF6",
                        "gridcolor": "white",
                        "gridwidth": 2,
                        "linecolor": "white",
                        "showbackground": true,
                        "ticks": "",
                        "zerolinecolor": "white"
                      }
                    },
                    "shapedefaults": {
                      "line": {
                        "color": "#2a3f5f"
                      }
                    },
                    "ternary": {
                      "aaxis": {
                        "gridcolor": "white",
                        "linecolor": "white",
                        "ticks": ""
                      },
                      "baxis": {
                        "gridcolor": "white",
                        "linecolor": "white",
                        "ticks": ""
                      },
                      "bgcolor": "#E5ECF6",
                      "caxis": {
                        "gridcolor": "white",
                        "linecolor": "white",
                        "ticks": ""
                      }
                    },
                    "title": {
                      "x": 0.05
                    },
                    "xaxis": {
                      "automargin": true,
                      "gridcolor": "white",
                      "linecolor": "white",
                      "ticks": "",
                      "title": {
                        "standoff": 15
                      },
                      "zerolinecolor": "white",
                      "zerolinewidth": 2
                    },
                    "yaxis": {
                      "automargin": true,
                      "gridcolor": "white",
                      "linecolor": "white",
                      "ticks": "",
                      "title": {
                        "standoff": 15
                      },
                      "zerolinecolor": "white",
                      "zerolinewidth": 2
                    }
                  }
                },
                "title": {
                  "text": "Machine Learning Model Performance Dashboard"
                },
                "xaxis": {
                  "anchor": "y",
                  "domain": [
                    0,
                    0.45
                  ]
                },
                "xaxis2": {
                  "anchor": "y2",
                  "domain": [
                    0.55,
                    1
                  ]
                },
                "xaxis3": {
                  "anchor": "y3",
                  "domain": [
                    0,
                    0.45
                  ]
                },
                "xaxis4": {
                  "anchor": "y4",
                  "domain": [
                    0.55,
                    1
                  ]
                },
                "yaxis": {
                  "anchor": "x",
                  "domain": [
                    0.625,
                    1
                  ]
                },
                "yaxis2": {
                  "anchor": "x2",
                  "domain": [
                    0.625,
                    1
                  ]
                },
                "yaxis3": {
                  "anchor": "x3",
                  "domain": [
                    0,
                    0.375
                  ]
                },
                "yaxis4": {
                  "anchor": "x4",
                  "domain": [
                    0,
                    0.375
                  ]
                }
              }
            }
          },
          "metadata": {},
          "output_type": "display_data"
        },
        {
          "name": "stdout",
          "output_type": "stream",
          "text": [
            "\n",
            " 4. Business Insights and Recommendations\n",
            "========================================\n",
            "\n",
            " Drug Rating Prediction Insights:\n",
            "   • Best model can explain 100.0% of rating variance\n",
            "   • Average prediction error: ±0.0 rating points\n",
            "   • Model suitable for: drug recommendation systems, quality assessment\n",
            "\n",
            " Drug Category Classification Insights:\n",
            "   • Best model achieves 61.8% accuracy in categorizing drugs\n",
            "   • Balanced performance across rating categories (F1: 0.518)\n",
            "   • Model suitable for: automated drug screening, quality control\n",
            "\n",
            " Recommended Business Applications:\n",
            "   1.  Drug Recommendation System:\n",
            "      - Use Linear Regression to predict drug ratings\n",
            "      - Recommend drugs with predicted ratings > 7.0\n",
            "      - Integrate with patient history and preferences\n",
            "   2.  Clinical Decision Support:\n",
            "      - Use Gradient Boosting for drug category screening\n",
            "      - Flag drugs predicted as 'Poor' or 'Fair' for review\n",
            "      - Provide confidence scores for medical professionals\n",
            "   3.  Quality Assurance:\n",
            "      - Automated screening of new drug entries\n",
            "      - Anomaly detection for unusual rating patterns\n",
            "      - Continuous monitoring of drug performance\n",
            "\n",
            " Saving Best Models...\n",
            "    Models saved successfully:\n",
            "    Location: ..\\models\n",
            "    Regression: Linear Regression\n",
            "    Classification: Gradient Boosting\n",
            "\n",
            " MACHINE LEARNING ANALYSIS COMPLETE!\n",
            "   Ready to proceed with interactive dashboard development\n"
          ]
        }
      ],
      "source": [
        "# Model Evaluation and Results\n",
        "print(\" MODEL EVALUATION & BUSINESS INSIGHTS\")\n",
        "print(\"=\" * 45)\n",
        "\n",
        "# Regression Model Comparison\n",
        "if regression_results:\n",
        "    print(\"\\n 1. Regression Model Performance Comparison\")\n",
        "    \n",
        "    # Create comparison DataFrame\n",
        "    regression_comparison = pd.DataFrame({\n",
        "        model: {metric: results[metric] for metric in ['RMSE', 'MAE', 'R²']}\n",
        "        for model, results in regression_results.items()\n",
        "    }).T\n",
        "    \n",
        "    # Sort by R² score (descending)\n",
        "    regression_comparison = regression_comparison.sort_values('R²', ascending=False)\n",
        "    \n",
        "    print(f\"\\n Regression Model Rankings (by R² Score):\")\n",
        "    print(f\"{'Model':<20} {'RMSE':<8} {'MAE':<8} {'R²':<8}\")\n",
        "    print(\"-\" * 45)\n",
        "    \n",
        "    for i, (model, row) in enumerate(regression_comparison.iterrows(), 1):\n",
        "        print(f\"{i}. {model:<17} {row['RMSE']:.3f}    {row['MAE']:.3f}   {row['R²']:.3f}\")\n",
        "    \n",
        "    # Best model insights\n",
        "    best_regression_model = regression_comparison.index[0]\n",
        "    best_r2 = regression_comparison.iloc[0]['R²']\n",
        "    best_rmse = regression_comparison.iloc[0]['RMSE']\n",
        "    \n",
        "    print(f\"\\n Best Regression Model: {best_regression_model}\")\n",
        "    print(f\"    R² Score: {best_r2:.3f} (explains {best_r2*100:.1f}% of variance)\")\n",
        "    print(f\"    RMSE: {best_rmse:.3f} (average error of ~{best_rmse:.1f} rating points)\")\n",
        "\n",
        "# Classification Model Comparison\n",
        "if classification_results:\n",
        "    print(\"\\n 2. Classification Model Performance Comparison\")\n",
        "    \n",
        "    # Create comparison DataFrame\n",
        "    classification_comparison = pd.DataFrame({\n",
        "        model: {metric: results[metric] for metric in ['Accuracy', 'Precision', 'Recall', 'F1-Score']}\n",
        "        for model, results in classification_results.items()\n",
        "    }).T\n",
        "    \n",
        "    # Sort by F1-Score (descending)\n",
        "    classification_comparison = classification_comparison.sort_values('F1-Score', ascending=False)\n",
        "    \n",
        "    print(f\"\\n Classification Model Rankings (by F1-Score):\")\n",
        "    print(f\"{'Model':<20} {'Accuracy':<9} {'Precision':<10} {'Recall':<8} {'F1-Score'}\")\n",
        "    print(\"-\" * 60)\n",
        "    \n",
        "    for i, (model, row) in enumerate(classification_comparison.iterrows(), 1):\n",
        "        print(f\"{i}. {model:<17} {row['Accuracy']:.3f}     {row['Precision']:.3f}      {row['Recall']:.3f}    {row['F1-Score']:.3f}\")\n",
        "    \n",
        "    # Best model insights\n",
        "    best_classification_model = classification_comparison.index[0]\n",
        "    best_f1 = classification_comparison.iloc[0]['F1-Score']\n",
        "    best_accuracy = classification_comparison.iloc[0]['Accuracy']\n",
        "    \n",
        "    print(f\"\\n Best Classification Model: {best_classification_model}\")\n",
        "    print(f\"    Accuracy: {best_accuracy:.3f} ({best_accuracy*100:.1f}% correct predictions)\")\n",
        "    print(f\"    F1-Score: {best_f1:.3f} (balanced precision-recall performance)\")\n",
        "\n",
        "# Visualization\n",
        "print(\"\\n 3. Model Performance Visualization\")\n",
        "\n",
        "if regression_results and classification_results:\n",
        "    # Create visualization with matplotlib backup\n",
        "    try:\n",
        "        fig = make_subplots(\n",
        "            rows=2, cols=2,\n",
        "            subplot_titles=['Regression R² Scores', 'Classification F1 Scores', \n",
        "                           'Prediction vs Actual (Best Regression)', 'Error Distribution'],\n",
        "            specs=[[{\"secondary_y\": False}, {\"secondary_y\": False}],\n",
        "                   [{\"secondary_y\": False}, {\"secondary_y\": False}]]\n",
        "        )\n",
        "        \n",
        "        # Plot 1: Regression comparison\n",
        "        models = list(regression_comparison.index)\n",
        "        r2_scores = regression_comparison['R²'].values\n",
        "        \n",
        "        fig.add_trace(\n",
        "            go.Bar(x=models, y=r2_scores, name=\"R² Score\", \n",
        "                   marker_color='lightblue', text=[f\"{score:.3f}\" for score in r2_scores]),\n",
        "            row=1, col=1\n",
        "        )\n",
        "        \n",
        "        # Plot 2: Classification comparison\n",
        "        cls_models = list(classification_comparison.index)\n",
        "        f1_scores = classification_comparison['F1-Score'].values\n",
        "        \n",
        "        fig.add_trace(\n",
        "            go.Bar(x=cls_models, y=f1_scores, name=\"F1 Score\",\n",
        "                   marker_color='lightgreen', text=[f\"{score:.3f}\" for score in f1_scores]),\n",
        "            row=1, col=2\n",
        "        )\n",
        "        \n",
        "        # Plot 3: Prediction vs Actual\n",
        "        if best_regression_model in regression_results:\n",
        "            predictions = regression_results[best_regression_model]['predictions']\n",
        "            fig.add_trace(\n",
        "                go.Scatter(x=y_test, y=predictions, mode='markers',\n",
        "                          name=\"Predictions\", marker=dict(size=5, opacity=0.6)),\n",
        "                row=2, col=1\n",
        "            )\n",
        "            # Perfect prediction line\n",
        "            min_val, max_val = min(y_test.min(), predictions.min()), max(y_test.max(), predictions.max())\n",
        "            fig.add_trace(\n",
        "                go.Scatter(x=[min_val, max_val], y=[min_val, max_val], \n",
        "                          mode='lines', name=\"Perfect Prediction\",\n",
        "                          line=dict(color='red', dash='dash')),\n",
        "                row=2, col=1\n",
        "            )\n",
        "        \n",
        "        # Plot 4: Error distribution\n",
        "        if best_regression_model in regression_results:\n",
        "            predictions = regression_results[best_regression_model]['predictions']\n",
        "            residuals = y_test - predictions\n",
        "            \n",
        "            fig.add_trace(\n",
        "                go.Histogram(x=residuals, nbinsx=30, name=\"Residuals\",\n",
        "                            marker_color='salmon', opacity=0.7),\n",
        "                row=2, col=2\n",
        "            )\n",
        "        \n",
        "        fig.update_layout(height=800, title_text=\"Machine Learning Model Performance Dashboard\", \n",
        "                         showlegend=False)\n",
        "        \n",
        "        fig.show()\n",
        "        \n",
        "    except Exception as e:\n",
        "        print(f\" Interactive plot failed: {e}\")\n",
        "        print(\"Using matplotlib backup...\")\n",
        "        \n",
        "        plt.figure(figsize=(15, 10))\n",
        "        \n",
        "        # Regression comparison\n",
        "        plt.subplot(2, 2, 1)\n",
        "        plt.bar(range(len(models)), r2_scores, color='lightblue')\n",
        "        plt.xticks(range(len(models)), models, rotation=45)\n",
        "        plt.ylabel('R² Score')\n",
        "        plt.title('Regression Model Comparison')\n",
        "        plt.grid(True, alpha=0.3)\n",
        "        \n",
        "        # Classification comparison\n",
        "        plt.subplot(2, 2, 2)\n",
        "        plt.bar(range(len(cls_models)), f1_scores, color='lightgreen')\n",
        "        plt.xticks(range(len(cls_models)), cls_models, rotation=45)\n",
        "        plt.ylabel('F1 Score')\n",
        "        plt.title('Classification Model Comparison')\n",
        "        plt.grid(True, alpha=0.3)\n",
        "        \n",
        "        # Prediction vs Actual\n",
        "        plt.subplot(2, 2, 3)\n",
        "        if best_regression_model in regression_results:\n",
        "            predictions = regression_results[best_regression_model]['predictions']\n",
        "            plt.scatter(y_test, predictions, alpha=0.6, s=20)\n",
        "            plt.plot([y_test.min(), y_test.max()], [y_test.min(), y_test.max()], 'r--', lw=2)\n",
        "            plt.xlabel('Actual Rating')\n",
        "            plt.ylabel('Predicted Rating')\n",
        "            plt.title('Prediction vs Actual')\n",
        "            plt.grid(True, alpha=0.3)\n",
        "        \n",
        "        # Error distribution\n",
        "        plt.subplot(2, 2, 4)\n",
        "        if best_regression_model in regression_results:\n",
        "            predictions = regression_results[best_regression_model]['predictions']\n",
        "            residuals = y_test - predictions\n",
        "            plt.hist(residuals, bins=30, alpha=0.7, color='salmon')\n",
        "            plt.xlabel('Residuals')\n",
        "            plt.ylabel('Frequency')\n",
        "            plt.title('Prediction Error Distribution')\n",
        "            plt.grid(True, alpha=0.3)\n",
        "        \n",
        "        plt.tight_layout()\n",
        "        plt.show()\n",
        "\n",
        "# Business Insights\n",
        "print(\"\\n 4. Business Insights and Recommendations\")\n",
        "print(\"=\" * 40)\n",
        "\n",
        "# Model Performance Insights\n",
        "if regression_results:\n",
        "    print(f\"\\n Drug Rating Prediction Insights:\")\n",
        "    print(f\"   • Best model can explain {best_r2*100:.1f}% of rating variance\")\n",
        "    print(f\"   • Average prediction error: ±{best_rmse:.1f} rating points\")\n",
        "    print(f\"   • Model suitable for: drug recommendation systems, quality assessment\")\n",
        "\n",
        "if classification_results:\n",
        "    print(f\"\\n Drug Category Classification Insights:\")\n",
        "    print(f\"   • Best model achieves {best_accuracy*100:.1f}% accuracy in categorizing drugs\")\n",
        "    print(f\"   • Balanced performance across rating categories (F1: {best_f1:.3f})\")\n",
        "    print(f\"   • Model suitable for: automated drug screening, quality control\")\n",
        "\n",
        "# Feature Importance (if available)\n",
        "if regression_results and best_regression_model in ['Random Forest', 'Gradient Boosting']:\n",
        "    try:\n",
        "        model = regression_results[best_regression_model]['model']\n",
        "        if hasattr(model, 'feature_importances_'):\n",
        "            importances = model.feature_importances_\n",
        "            feature_names = X.columns\n",
        "            \n",
        "            # Get top 5 most important features\n",
        "            top_5_idx = np.argsort(importances)[-5:]\n",
        "            print(f\"\\n Top 5 Most Important Features for Rating Prediction:\")\n",
        "            for i, idx in enumerate(reversed(top_5_idx), 1):\n",
        "                feature_name = feature_names[idx]\n",
        "                importance = importances[idx]\n",
        "                print(f\"   {i}. {feature_name}: {importance:.3f}\")\n",
        "    except Exception as e:\n",
        "        print(f\"    Feature importance analysis unavailable\")\n",
        "\n",
        "# Business Applications\n",
        "print(f\"\\n Recommended Business Applications:\")\n",
        "print(f\"   1.  Drug Recommendation System:\")\n",
        "print(f\"      - Use {best_regression_model} to predict drug ratings\")\n",
        "print(f\"      - Recommend drugs with predicted ratings > 7.0\")\n",
        "print(f\"      - Integrate with patient history and preferences\")\n",
        "\n",
        "print(f\"   2.  Clinical Decision Support:\")\n",
        "print(f\"      - Use {best_classification_model} for drug category screening\")\n",
        "print(f\"      - Flag drugs predicted as 'Poor' or 'Fair' for review\")\n",
        "print(f\"      - Provide confidence scores for medical professionals\")\n",
        "\n",
        "print(f\"   3.  Quality Assurance:\")\n",
        "print(f\"      - Automated screening of new drug entries\")\n",
        "print(f\"      - Anomaly detection for unusual rating patterns\")\n",
        "print(f\"      - Continuous monitoring of drug performance\")\n",
        "\n",
        "# Save best models\n",
        "print(f\"\\n Saving Best Models...\")\n",
        "try:\n",
        "    model_save_path = Path(\"../models\")\n",
        "    model_save_path.mkdir(exist_ok=True)\n",
        "    \n",
        "    # Save best regression model\n",
        "    best_reg_model = regression_results[best_regression_model]['model']\n",
        "    joblib.dump(best_reg_model, model_save_path / f\"best_regression_model_{best_regression_model.replace(' ', '_')}.joblib\")\n",
        "    \n",
        "    # Save best classification model\n",
        "    best_cls_model = classification_results[best_classification_model]['model']\n",
        "    joblib.dump(best_cls_model, model_save_path / f\"best_classification_model_{best_classification_model.replace(' ', '_')}.joblib\")\n",
        "    \n",
        "    # Save scaler and feature names\n",
        "    joblib.dump(scaler, model_save_path / \"feature_scaler.joblib\")\n",
        "    joblib.dump(list(X.columns), model_save_path / \"feature_names.joblib\")\n",
        "    joblib.dump(le, model_save_path / \"label_encoder.joblib\")\n",
        "    \n",
        "    print(f\"    Models saved successfully:\")\n",
        "    print(f\"    Location: {model_save_path}\")\n",
        "    print(f\"    Regression: {best_regression_model}\")\n",
        "    print(f\"    Classification: {best_classification_model}\")\n",
        "    \n",
        "except Exception as e:\n",
        "    print(f\"    Model saving failed: {e}\")\n",
        "\n",
        "print(f\"\\n MACHINE LEARNING ANALYSIS COMPLETE!\")\n",
        "print(\"   Ready to proceed with interactive dashboard development\")\n"
      ]
    },
    {
      "cell_type": "markdown",
      "metadata": {},
      "source": [
        "---"
      ]
    }
  ],
  "metadata": {
    "kernelspec": {
      "display_name": ".venv",
      "language": "python",
      "name": "python3"
    },
    "language_info": {
      "codemirror_mode": {
        "name": "ipython",
        "version": 3
      },
      "file_extension": ".py",
      "mimetype": "text/x-python",
      "name": "python",
      "nbconvert_exporter": "python",
      "pygments_lexer": "ipython3",
      "version": "3.12.10"
    }
  },
  "nbformat": 4,
  "nbformat_minor": 2
}
